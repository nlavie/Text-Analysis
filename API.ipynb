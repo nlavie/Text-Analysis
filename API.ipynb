{
 "cells": [
  {
   "cell_type": "code",
   "execution_count": 1,
   "metadata": {},
   "outputs": [
    {
     "name": "stdout",
     "output_type": "stream",
     "text": [
      "[nltk_data] Downloading package stopwords to\n",
      "[nltk_data]     /Users/nitsan/nltk_data...\n",
      "[nltk_data]   Package stopwords is already up-to-date!\n"
     ]
    }
   ],
   "source": [
    "from gensim.parsing.preprocessing import preprocess_string\n",
    "import pickle\n",
    "import datetime\n",
    "import nltk\n",
    "\n",
    "from gensim import corpora, models, similarities\n",
    "from gensim.corpora import Dictionary\n",
    "\n",
    "from gensim.parsing.preprocessing import preprocess_string\n",
    "from gensim.parsing.preprocessing import remove_stopwords\n",
    "from gensim.parsing.preprocessing import stem_text\n",
    "from gensim.parsing.preprocessing import strip_multiple_whitespaces\n",
    "from gensim.parsing.preprocessing import strip_non_alphanum\n",
    "from gensim.parsing.preprocessing import strip_numeric\n",
    "from gensim.parsing.preprocessing import strip_punctuation\n",
    "from gensim import utils\n",
    "from nltk.stem.porter import PorterStemmer\n",
    "nltk.download('stopwords')\n",
    "from nltk.corpus import stopwords\n",
    "\n",
    "ps = PorterStemmer()"
   ]
  },
  {
   "cell_type": "code",
   "execution_count": 2,
   "metadata": {},
   "outputs": [],
   "source": [
    "CUSTOM_FILTERS = [lambda x: x.lower(),stem_text,strip_multiple_whitespaces,\n",
    "                  remove_stopwords, strip_punctuation,strip_non_alphanum,\n",
    "                  strip_numeric]"
   ]
  },
  {
   "cell_type": "code",
   "execution_count": 3,
   "metadata": {},
   "outputs": [],
   "source": [
    "def log(msg, newFile):\n",
    "    if newFile == True:\n",
    "        with open('log.txt','w') as myfile:\n",
    "            myfile.write(str(datetime.datetime.now()) + ' DEBUG: '+msg + '\\n')\n",
    "    else:\n",
    "        with open(\"log.txt\", \"a\") as myfile:\n",
    "            myfile.write(str(datetime.datetime.now()) + ' DEBUG: '+msg + '\\n')\n",
    "        \n",
    "log('Program start', True)"
   ]
  },
  {
   "cell_type": "code",
   "execution_count": 4,
   "metadata": {},
   "outputs": [],
   "source": [
    "def loadTitlesDictionary():\n",
    "    for sort_by_word in [True, False]:\n",
    "        d_loaded = Dictionary.load_from_text('dic.txt')\n",
    "        \n",
    "    return d_loaded"
   ]
  },
  {
   "cell_type": "code",
   "execution_count": 9,
   "metadata": {},
   "outputs": [],
   "source": [
    "def loadRandomForestClassifier():\n",
    "    loaded_model = pickle.load(open('rfModel.sav', 'rb'))\n",
    "    \n",
    "    return loaded_model"
   ]
  },
  {
   "cell_type": "code",
   "execution_count": 17,
   "metadata": {},
   "outputs": [],
   "source": [
    "def classify(url, title, description, content):\n",
    "    s = preprocess_string(title, CUSTOM_FILTERS)\n",
    "    titlesDictionaryLoaded = loadTitlesDictionary()\n",
    "    vec = titlesDictionaryLoaded.doc2idx(s)\n",
    "    for i in range(len(vec), 182):\n",
    "        vec.append('0')\n",
    "    rfc = loadRandomForestClassifier()\n",
    "    return rfc.predict([vec])"
   ]
  },
  {
   "cell_type": "code",
   "execution_count": 12,
   "metadata": {},
   "outputs": [],
   "source": [
    "r = loadRandomForestClassifier()"
   ]
  },
  {
   "cell_type": "raw",
   "metadata": {},
   "source": [
    "r"
   ]
  },
  {
   "cell_type": "code",
   "execution_count": 19,
   "metadata": {},
   "outputs": [],
   "source": [
    "classify('a','BRIEF-Just Eat completes Menulog acquisition | Reuters', 'nada', 'socks')\n"
   ]
  }
 ],
 "metadata": {
  "kernelspec": {
   "display_name": "Python 3",
   "language": "python",
   "name": "python3"
  },
  "language_info": {
   "codemirror_mode": {
    "name": "ipython",
    "version": 3
   },
   "file_extension": ".py",
   "mimetype": "text/x-python",
   "name": "python",
   "nbconvert_exporter": "python",
   "pygments_lexer": "ipython3",
   "version": "3.6.4"
  }
 },
 "nbformat": 4,
 "nbformat_minor": 2
}
